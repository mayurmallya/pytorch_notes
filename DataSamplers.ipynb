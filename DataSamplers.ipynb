{
 "cells": [
  {
   "cell_type": "code",
   "execution_count": 1,
   "metadata": {},
   "outputs": [],
   "source": [
    "# Reference: https://discuss.pytorch.org/t/some-problems-with-weightedrandomsampler/23242/34"
   ]
  },
  {
   "cell_type": "code",
   "execution_count": 2,
   "metadata": {},
   "outputs": [],
   "source": [
    "import torch"
   ]
  },
  {
   "cell_type": "code",
   "execution_count": 3,
   "metadata": {},
   "outputs": [],
   "source": [
    "# Creating a dataset with imbalance\n",
    "\n",
    "class_counts = torch.tensor([700, 200, 100])\n",
    "num_data_points = class_counts.sum()\n",
    "data_dim = 5\n",
    "bs = 100\n",
    "data = torch.randn(num_data_points, data_dim)"
   ]
  },
  {
   "cell_type": "code",
   "execution_count": 4,
   "metadata": {},
   "outputs": [],
   "source": [
    "target = torch.cat((torch.zeros(class_counts[0], dtype=torch.long),\n",
    "                   torch.ones(class_counts[1], dtype=torch.long),\n",
    "                   torch.ones(class_counts[2], dtype=torch.long)*2))"
   ]
  },
  {
   "cell_type": "code",
   "execution_count": 5,
   "metadata": {},
   "outputs": [
    {
     "name": "stdout",
     "output_type": "stream",
     "text": [
      "target train 0/1/2: 700/200/100\n"
     ]
    }
   ],
   "source": [
    "print('target train 0/1/2: {}/{}/{}'.format(\n",
    "     (target==0).sum(), (target==1).sum(), (target==2).sum()))"
   ]
  },
  {
   "cell_type": "code",
   "execution_count": 6,
   "metadata": {},
   "outputs": [],
   "source": [
    "# Compute samples weight (each sample should get its own weight)\n",
    "\n",
    "class_sample_count = torch.tensor(\n",
    "    [(target == t).sum() for t in torch.unique(target, sorted=True)])\n",
    "weight = 1. / class_sample_count.float()\n",
    "samples_weight = torch.tensor([weight[t] for t in target])"
   ]
  },
  {
   "cell_type": "code",
   "execution_count": 7,
   "metadata": {},
   "outputs": [],
   "source": [
    "# Torch dataset\n",
    "\n",
    "train_dataset = torch.utils.data.TensorDataset(data, target)"
   ]
  },
  {
   "cell_type": "code",
   "execution_count": 8,
   "metadata": {},
   "outputs": [],
   "source": [
    "# Dataloaders with different sampling techniques\n",
    "\n",
    "dataloader_basic_sampler = torch.utils.data.DataLoader(train_dataset, batch_size=bs, num_workers=0)\n",
    "\n",
    "dataloader_basic_randomsampler = torch.utils.data.DataLoader(train_dataset, batch_size=bs, num_workers=0, shuffle=True)\n",
    "\n",
    "wrs = torch.utils.data.WeightedRandomSampler(samples_weight, len(samples_weight))\n",
    "dataloader_weighterrandomsampler = torch.utils.data.DataLoader(train_dataset, batch_size=bs, num_workers=0, sampler=wrs)\n"
   ]
  },
  {
   "cell_type": "code",
   "execution_count": 9,
   "metadata": {},
   "outputs": [
    {
     "name": "stdout",
     "output_type": "stream",
     "text": [
      "\n",
      " Basic sampler\n",
      "batch index 0, 0/1/2: 100/0/0\n",
      "batch index 1, 0/1/2: 100/0/0\n",
      "batch index 2, 0/1/2: 100/0/0\n",
      "batch index 3, 0/1/2: 100/0/0\n",
      "batch index 4, 0/1/2: 100/0/0\n",
      "batch index 5, 0/1/2: 100/0/0\n",
      "batch index 6, 0/1/2: 100/0/0\n",
      "batch index 7, 0/1/2: 0/100/0\n",
      "batch index 8, 0/1/2: 0/100/0\n",
      "batch index 9, 0/1/2: 0/0/100\n",
      "\n",
      " Basic random sampler\n",
      "batch index 0, 0/1/2: 70/15/15\n",
      "batch index 1, 0/1/2: 67/25/8\n",
      "batch index 2, 0/1/2: 68/22/10\n",
      "batch index 3, 0/1/2: 70/22/8\n",
      "batch index 4, 0/1/2: 83/13/4\n",
      "batch index 5, 0/1/2: 77/14/9\n",
      "batch index 6, 0/1/2: 71/17/12\n",
      "batch index 7, 0/1/2: 64/27/9\n",
      "batch index 8, 0/1/2: 64/25/11\n",
      "batch index 9, 0/1/2: 66/20/14\n",
      "\n",
      " Weighted random sampler\n",
      "batch index 0, 0/1/2: 26/39/35\n",
      "batch index 1, 0/1/2: 34/31/35\n",
      "batch index 2, 0/1/2: 34/31/35\n",
      "batch index 3, 0/1/2: 29/39/32\n",
      "batch index 4, 0/1/2: 33/35/32\n",
      "batch index 5, 0/1/2: 28/33/39\n",
      "batch index 6, 0/1/2: 37/32/31\n",
      "batch index 7, 0/1/2: 30/39/31\n",
      "batch index 8, 0/1/2: 39/32/29\n",
      "batch index 9, 0/1/2: 39/34/27\n"
     ]
    }
   ],
   "source": [
    "# Iterate DataLoader and check class balance for each batch\n",
    "\n",
    "print('\\n Basic sampler')\n",
    "for i, (x, y) in enumerate(dataloader_basic_sampler):\n",
    "    print(\"batch index {}, 0/1/2: {}/{}/{}\".format(\n",
    "        i, (y == 0).sum(), (y == 1).sum(), (y == 2).sum()))\n",
    "    \n",
    "print('\\n Basic random sampler')\n",
    "for i, (x, y) in enumerate(dataloader_basic_randomsampler):\n",
    "    print(\"batch index {}, 0/1/2: {}/{}/{}\".format(\n",
    "        i, (y == 0).sum(), (y == 1).sum(), (y == 2).sum()))\n",
    "    \n",
    "print('\\n Weighted random sampler')\n",
    "for i, (x, y) in enumerate(dataloader_weighterrandomsampler):\n",
    "    print(\"batch index {}, 0/1/2: {}/{}/{}\".format(\n",
    "        i, (y == 0).sum(), (y == 1).sum(), (y == 2).sum()))"
   ]
  },
  {
   "cell_type": "code",
   "execution_count": null,
   "metadata": {},
   "outputs": [],
   "source": []
  }
 ],
 "metadata": {
  "kernelspec": {
   "display_name": "Python 3",
   "language": "python",
   "name": "python3"
  },
  "language_info": {
   "codemirror_mode": {
    "name": "ipython",
    "version": 3
   },
   "file_extension": ".py",
   "mimetype": "text/x-python",
   "name": "python",
   "nbconvert_exporter": "python",
   "pygments_lexer": "ipython3",
   "version": "3.7.7"
  }
 },
 "nbformat": 4,
 "nbformat_minor": 4
}
